{
 "cells": [
  {
   "cell_type": "code",
   "execution_count": 1,
   "metadata": {},
   "outputs": [],
   "source": [
    "from datetime import datetime as dt\n",
    "from datetime import timedelta as td\n",
    "import yfinance as yf"
   ]
  },
  {
   "cell_type": "code",
   "execution_count": 2,
   "metadata": {},
   "outputs": [
    {
     "name": "stderr",
     "output_type": "stream",
     "text": [
      "[*********************100%%**********************]  2 of 2 completed\n"
     ]
    }
   ],
   "source": [
    "data = yf.download(period='5d', tickers=['MSFT', 'PG'])"
   ]
  },
  {
   "cell_type": "code",
   "execution_count": 3,
   "metadata": {},
   "outputs": [
    {
     "data": {
      "text/plain": [
       "MultiIndex([('Adj Close', 'MSFT'),\n",
       "            ('Adj Close',   'PG'),\n",
       "            (    'Close', 'MSFT'),\n",
       "            (    'Close',   'PG'),\n",
       "            (     'High', 'MSFT'),\n",
       "            (     'High',   'PG'),\n",
       "            (      'Low', 'MSFT'),\n",
       "            (      'Low',   'PG'),\n",
       "            (     'Open', 'MSFT'),\n",
       "            (     'Open',   'PG'),\n",
       "            (   'Volume', 'MSFT'),\n",
       "            (   'Volume',   'PG')],\n",
       "           names=['Price', 'Ticker'])"
      ]
     },
     "execution_count": 3,
     "metadata": {},
     "output_type": "execute_result"
    }
   ],
   "source": [
    "data.columns"
   ]
  },
  {
   "cell_type": "code",
   "execution_count": 6,
   "metadata": {},
   "outputs": [
    {
     "data": {
      "text/plain": [
       "Date\n",
       "2024-07-29    426.730011\n",
       "2024-07-30    422.920013\n",
       "2024-07-31    418.350006\n",
       "2024-08-01    417.109985\n",
       "2024-08-02    408.489990\n",
       "Name: (Adj Close, MSFT), dtype: float64"
      ]
     },
     "execution_count": 6,
     "metadata": {},
     "output_type": "execute_result"
    }
   ],
   "source": [
    "data[('Adj Close', 'MSFT')]"
   ]
  }
 ],
 "metadata": {
  "kernelspec": {
   "display_name": "Python 3",
   "language": "python",
   "name": "python3"
  },
  "language_info": {
   "codemirror_mode": {
    "name": "ipython",
    "version": 3
   },
   "file_extension": ".py",
   "mimetype": "text/x-python",
   "name": "python",
   "nbconvert_exporter": "python",
   "pygments_lexer": "ipython3",
   "version": "3.11.2"
  }
 },
 "nbformat": 4,
 "nbformat_minor": 2
}
