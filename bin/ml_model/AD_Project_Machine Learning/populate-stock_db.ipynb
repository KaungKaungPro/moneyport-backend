{
 "cells": [
  {
   "cell_type": "code",
   "execution_count": 3,
   "metadata": {},
   "outputs": [
    {
     "name": "stdout",
     "output_type": "stream",
     "text": [
      "Stock data has been populated in the database.\n"
     ]
    }
   ],
   "source": [
    "import mysql.connector\n",
    "\n",
    "# Database connection configuration\n",
    "db_config = {\n",
    "    'host': 'localhost',\n",
    "    'user': 'root',\n",
    "    'password': 'Poonam123*',\n",
    "    'database': 'investment_questionnaire'\n",
    "}\n",
    "\n",
    "# Sample stock data\n",
    "stocks = [\n",
    "    # R1 (Low Risk) Stocks\n",
    "    ('JNJ', 'Johnson & Johnson', 'R1', 'Healthcare'),\n",
    "    ('PG', 'Procter & Gamble', 'R1', 'Consumer Goods'),\n",
    "    ('KO', 'Coca-Cola', 'R1', 'Beverages'),\n",
    "    ('VZ', 'Verizon', 'R1', 'Telecommunications'),\n",
    "    ('WMT', 'Walmart', 'R1', 'Retail'),\n",
    "    ('MCD', \"McDonald's\", 'R1', 'Restaurants'),\n",
    "    ('PEP', 'PepsiCo', 'R1', 'Beverages'),\n",
    "    ('T', 'AT&T', 'R1', 'Telecommunications'),\n",
    "    ('UL', 'Unilever', 'R1', 'Consumer Goods'),\n",
    "    ('XOM', 'ExxonMobil', 'R1', 'Oil & Gas'),\n",
    "\n",
    "    # R2 (Medium Risk) Stocks\n",
    "    ('AAPL', 'Apple Inc.', 'R2', 'Technology'),\n",
    "    ('MSFT', 'Microsoft', 'R2', 'Technology'),\n",
    "    ('GOOGL', 'Alphabet (Google)', 'R2', 'Technology'),\n",
    "    ('AMZN', 'Amazon', 'R2', 'E-commerce'),\n",
    "    ('FB', 'Facebook', 'R2', 'Social Media'),\n",
    "    ('V', 'Visa', 'R2', 'Financial Services'),\n",
    "    ('JPM', 'JPMorgan Chase', 'R2', 'Banking'),\n",
    "    ('DIS', 'Disney', 'R2', 'Entertainment'),\n",
    "    ('NFLX', 'Netflix', 'R2', 'Streaming Services'),\n",
    "    ('CSCO', 'Cisco Systems', 'R2', 'Networking Technology'),\n",
    "\n",
    "    # R3 (High Risk) Stocks\n",
    "    ('TSLA', 'Tesla', 'R3', 'Automotive/Technology'),\n",
    "    ('NVDA', 'NVIDIA', 'R3', 'Technology'),\n",
    "    ('AMD', 'Advanced Micro Devices', 'R3', 'Technology'),\n",
    "    ('COIN', 'Coinbase', 'R3', 'Cryptocurrency'),\n",
    "    ('SQ', 'Square', 'R3', 'Financial Technology'),\n",
    "    ('PLTR', 'Palantir Technologies', 'R3', 'Software'),\n",
    "    ('NIO', 'NIO Inc.', 'R3', 'Automotive'),\n",
    "    ('BYND', 'Beyond Meat', 'R3', 'Food Products'),\n",
    "    ('PLUG', 'Plug Power', 'R3', 'Hydrogen Fuel Cells'),\n",
    "    ('SPCE', 'Virgin Galactic', 'R3', 'Aerospace')\n",
    "]\n",
    "\n",
    "# Function to insert stocks into the database\n",
    "def insert_stocks(stocks):\n",
    "    conn = mysql.connector.connect(**db_config)\n",
    "    cursor = conn.cursor()\n",
    "    \n",
    "    for stock in stocks:\n",
    "        try:\n",
    "            cursor.execute(\"\"\"\n",
    "                INSERT INTO stocks (symbol, name, risk_level, sector)\n",
    "                VALUES (%s, %s, %s, %s)\n",
    "            \"\"\", stock)\n",
    "        except mysql.connector.IntegrityError:\n",
    "            print(f\"Stock {stock[0]} already exists. Skipping.\")\n",
    "    \n",
    "    conn.commit()\n",
    "    cursor.close()\n",
    "    conn.close()\n",
    "\n",
    "if __name__ == \"__main__\":\n",
    "    insert_stocks(stocks)\n",
    "    print(\"Stock data has been populated in the database.\")\n"
   ]
  }
 ],
 "metadata": {
  "kernelspec": {
   "display_name": "myenv",
   "language": "python",
   "name": "python3"
  },
  "language_info": {
   "codemirror_mode": {
    "name": "ipython",
    "version": 3
   },
   "file_extension": ".py",
   "mimetype": "text/x-python",
   "name": "python",
   "nbconvert_exporter": "python",
   "pygments_lexer": "ipython3",
   "version": "3.12.3"
  }
 },
 "nbformat": 4,
 "nbformat_minor": 2
}
